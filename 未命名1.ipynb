{
 "cells": [
  {
   "cell_type": "code",
   "execution_count": 56,
   "metadata": {},
   "outputs": [],
   "source": [
    "import cv2\n",
    "import matplotlib.pyplot as plt\n",
    "import numpy as np\n",
    "import pandas as pd\n",
    "import os\n",
    "import imageio"
   ]
  },
  {
   "cell_type": "code",
   "execution_count": 57,
   "metadata": {},
   "outputs": [],
   "source": [
    "metas = [line.strip().split(\",\") for line in open(\"index.txt\").readlines()]"
   ]
  },
  {
   "cell_type": "code",
   "execution_count": 58,
   "metadata": {},
   "outputs": [],
   "source": [
    "for idx,(uid, x, y, m, n, c) in enumerate(metas):\n",
    "    img = cv2.imread(\"./pi/%s.png\" % uid)\n",
    "    img = cv2.rectangle(img, (int(x), int(y)), (int(m) + int(x), int(n) + int(y)), color=(255, 0, 0), thickness=1, lineType=cv2.LINE_4, shift=0)\n",
    "    for i in range(4):\n",
    "        img = cv2.line(img, (0, i * 64), (256, i * 64), color=(255,255,255), thickness=1, lineType=8, shift=0)\n",
    "        img = cv2.line(img, (i * 64, 0), (i * 64, 256), color=(255,255,255), thickness=1, lineType=8, shift=0)\n",
    "        \n",
    "    cv2.imwrite(\"./converted/%s.png\" % uid, img)\n",
    "    "
   ]
  },
  {
   "cell_type": "code",
   "execution_count": 59,
   "metadata": {},
   "outputs": [],
   "source": [
    "def get_index(x) -> int:\n",
    "    if 0 <= x < 64:\n",
    "        return 0\n",
    "    elif 64 <= x < 128:\n",
    "        return 1\n",
    "    elif 128 <= x < 192:\n",
    "        return 2\n",
    "    elif 192 <= x < 256:\n",
    "        return 3\n",
    "    else:\n",
    "        raise Exception(\"wrong number\")\n",
    "\n",
    "\n",
    "def get_center_coordinate(x: int, y: int, w: int, h: int) -> (int, int):\n",
    "    return (get_index(x + w / 2), get_index(y + h / 2))"
   ]
  },
  {
   "cell_type": "code",
   "execution_count": 66,
   "metadata": {},
   "outputs": [
    {
     "data": {
      "text/plain": [
       "(0, 2)"
      ]
     },
     "execution_count": 66,
     "metadata": {},
     "output_type": "execute_result"
    }
   ],
   "source": [
    "get_center_coordinate(5,151,49,75)"
   ]
  },
  {
   "cell_type": "code",
   "execution_count": 67,
   "metadata": {},
   "outputs": [],
   "source": [
    "ff = open(\"index2.txt\", \"w\")\n",
    "with open(\"index-Copy1.txt\", \"r\") as f:\n",
    "    for line in f.readlines():\n",
    "        uid, x, y, w, h, c = line.strip().split(\",\")\n",
    "        (center_x, center_y) = get_center_coordinate(int(x), int(y), int(w), int(h))\n",
    "        for col in range(4):\n",
    "            for row in range(4):\n",
    "                if row == center_x and col == center_y:\n",
    "                    ff.write(\"%s,%s,%s,%s,%s,%d\\n\"%(uid, x, y, w, h, 1))\n",
    "                else:\n",
    "                    ff.write(\"%s,%s,%s,%s,%s,%d\\n\"%(uid, x, y, w, h, 0))\n",
    "ff.close()"
   ]
  },
  {
   "cell_type": "code",
   "execution_count": null,
   "metadata": {},
   "outputs": [],
   "source": []
  }
 ],
 "metadata": {
  "kernelspec": {
   "display_name": "Python 3",
   "language": "python",
   "name": "python3"
  },
  "language_info": {
   "codemirror_mode": {
    "name": "ipython",
    "version": 3
   },
   "file_extension": ".py",
   "mimetype": "text/x-python",
   "name": "python",
   "nbconvert_exporter": "python",
   "pygments_lexer": "ipython3",
   "version": "3.7.6"
  }
 },
 "nbformat": 4,
 "nbformat_minor": 4
}
